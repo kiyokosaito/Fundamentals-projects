{
 "cells": [
  {
   "cell_type": "markdown",
   "metadata": {},
   "source": [
    "### This is the assessment for Fundamentals of Data Analysis"
   ]
  },
  {
   "cell_type": "markdown",
   "metadata": {},
   "source": [
    "Deadline/last commit on or before 29th Nov at https://github.com/kiyokosaito/Fundamentals-projects\n",
    "\n",
    "What I will do on this project as follows.\n",
    "\n",
    "### Description\n",
    "    I will cover what overall 'Tips' data set is about in this description section. \n",
    "    \n",
    "    Git hub URL : https://github.com/kiyokosaito/Fundamentals-projects\n",
    "    \n",
    "#### About Tips data set\n",
    "'One waiter recorded information about each tip he received over a period of a few months working in one restaurant. He collected several variables' (https://rdrr.io/cran/regclass/man/TIPS.html)\n",
    "\n",
    "\n",
    "The dataset contains a set of 244 records under 7 attributes -total_bill, tip, sex,\tsmoker,\tday,\ttime and size(how many people in the party) \n",
    "\n",
    "#### Acknowledgements\n",
    "This dataset is adapted from https://github.com/mwaskom/seaborn-data/blob/master/tips.csv\n",
    "\n",
    "\n",
    "\n"
   ]
  },
  {
   "cell_type": "markdown",
   "metadata": {},
   "source": [
    "Data Sources - URL https://docs.google.com/spreadsheets/d/1Ihgub6a2AoSL9V0iCM6Zb6xoEaZnzK_pBlGTv6bTM2s/edit?usp=sharing"
   ]
  },
  {
   "cell_type": "markdown",
   "metadata": {},
   "source": [
    "About this file\n",
    "The dataset contains a set of 244 records under 7 attributes -total_bill, tip, sex, smoker, day, time and size(how many people in the party)"
   ]
  },
  {
   "cell_type": "markdown",
   "metadata": {},
   "source": [
    "##### Columns = total_bill, tip,  sex, smoker, day,  time,\tsize (number of people in the party)"
   ]
  },
  {
   "cell_type": "code",
   "execution_count": 1,
   "metadata": {
    "scrolled": false
   },
   "outputs": [
    {
     "data": {
      "text/html": [
       "<div>\n",
       "<style scoped>\n",
       "    .dataframe tbody tr th:only-of-type {\n",
       "        vertical-align: middle;\n",
       "    }\n",
       "\n",
       "    .dataframe tbody tr th {\n",
       "        vertical-align: top;\n",
       "    }\n",
       "\n",
       "    .dataframe thead th {\n",
       "        text-align: right;\n",
       "    }\n",
       "</style>\n",
       "<table border=\"1\" class=\"dataframe\">\n",
       "  <thead>\n",
       "    <tr style=\"text-align: right;\">\n",
       "      <th></th>\n",
       "      <th>total_bill</th>\n",
       "      <th>tip</th>\n",
       "      <th>sex</th>\n",
       "      <th>smoker</th>\n",
       "      <th>day</th>\n",
       "      <th>time</th>\n",
       "      <th>size</th>\n",
       "    </tr>\n",
       "  </thead>\n",
       "  <tbody>\n",
       "    <tr>\n",
       "      <td>0</td>\n",
       "      <td>16.99</td>\n",
       "      <td>1.01</td>\n",
       "      <td>Female</td>\n",
       "      <td>No</td>\n",
       "      <td>Sun</td>\n",
       "      <td>Dinner</td>\n",
       "      <td>2</td>\n",
       "    </tr>\n",
       "    <tr>\n",
       "      <td>1</td>\n",
       "      <td>10.34</td>\n",
       "      <td>1.66</td>\n",
       "      <td>Male</td>\n",
       "      <td>No</td>\n",
       "      <td>Sun</td>\n",
       "      <td>Dinner</td>\n",
       "      <td>3</td>\n",
       "    </tr>\n",
       "    <tr>\n",
       "      <td>2</td>\n",
       "      <td>21.01</td>\n",
       "      <td>3.50</td>\n",
       "      <td>Male</td>\n",
       "      <td>No</td>\n",
       "      <td>Sun</td>\n",
       "      <td>Dinner</td>\n",
       "      <td>3</td>\n",
       "    </tr>\n",
       "    <tr>\n",
       "      <td>3</td>\n",
       "      <td>23.68</td>\n",
       "      <td>3.31</td>\n",
       "      <td>Male</td>\n",
       "      <td>No</td>\n",
       "      <td>Sun</td>\n",
       "      <td>Dinner</td>\n",
       "      <td>2</td>\n",
       "    </tr>\n",
       "    <tr>\n",
       "      <td>4</td>\n",
       "      <td>24.59</td>\n",
       "      <td>3.61</td>\n",
       "      <td>Female</td>\n",
       "      <td>No</td>\n",
       "      <td>Sun</td>\n",
       "      <td>Dinner</td>\n",
       "      <td>4</td>\n",
       "    </tr>\n",
       "    <tr>\n",
       "      <td>...</td>\n",
       "      <td>...</td>\n",
       "      <td>...</td>\n",
       "      <td>...</td>\n",
       "      <td>...</td>\n",
       "      <td>...</td>\n",
       "      <td>...</td>\n",
       "      <td>...</td>\n",
       "    </tr>\n",
       "    <tr>\n",
       "      <td>239</td>\n",
       "      <td>29.03</td>\n",
       "      <td>5.92</td>\n",
       "      <td>Male</td>\n",
       "      <td>No</td>\n",
       "      <td>Sat</td>\n",
       "      <td>Dinner</td>\n",
       "      <td>3</td>\n",
       "    </tr>\n",
       "    <tr>\n",
       "      <td>240</td>\n",
       "      <td>27.18</td>\n",
       "      <td>2.00</td>\n",
       "      <td>Female</td>\n",
       "      <td>Yes</td>\n",
       "      <td>Sat</td>\n",
       "      <td>Dinner</td>\n",
       "      <td>2</td>\n",
       "    </tr>\n",
       "    <tr>\n",
       "      <td>241</td>\n",
       "      <td>22.67</td>\n",
       "      <td>2.00</td>\n",
       "      <td>Male</td>\n",
       "      <td>Yes</td>\n",
       "      <td>Sat</td>\n",
       "      <td>Dinner</td>\n",
       "      <td>2</td>\n",
       "    </tr>\n",
       "    <tr>\n",
       "      <td>242</td>\n",
       "      <td>17.82</td>\n",
       "      <td>1.75</td>\n",
       "      <td>Male</td>\n",
       "      <td>No</td>\n",
       "      <td>Sat</td>\n",
       "      <td>Dinner</td>\n",
       "      <td>2</td>\n",
       "    </tr>\n",
       "    <tr>\n",
       "      <td>243</td>\n",
       "      <td>18.78</td>\n",
       "      <td>3.00</td>\n",
       "      <td>Female</td>\n",
       "      <td>No</td>\n",
       "      <td>Thur</td>\n",
       "      <td>Dinner</td>\n",
       "      <td>2</td>\n",
       "    </tr>\n",
       "  </tbody>\n",
       "</table>\n",
       "<p>244 rows × 7 columns</p>\n",
       "</div>"
      ],
      "text/plain": [
       "     total_bill   tip     sex smoker   day    time  size\n",
       "0         16.99  1.01  Female     No   Sun  Dinner     2\n",
       "1         10.34  1.66    Male     No   Sun  Dinner     3\n",
       "2         21.01  3.50    Male     No   Sun  Dinner     3\n",
       "3         23.68  3.31    Male     No   Sun  Dinner     2\n",
       "4         24.59  3.61  Female     No   Sun  Dinner     4\n",
       "..          ...   ...     ...    ...   ...     ...   ...\n",
       "239       29.03  5.92    Male     No   Sat  Dinner     3\n",
       "240       27.18  2.00  Female    Yes   Sat  Dinner     2\n",
       "241       22.67  2.00    Male    Yes   Sat  Dinner     2\n",
       "242       17.82  1.75    Male     No   Sat  Dinner     2\n",
       "243       18.78  3.00  Female     No  Thur  Dinner     2\n",
       "\n",
       "[244 rows x 7 columns]"
      ]
     },
     "execution_count": 1,
     "metadata": {},
     "output_type": "execute_result"
    }
   ],
   "source": [
    "import pandas as pd\n",
    "\n",
    "pd.read_csv(\"/Users/kiyok/Documents/tips.csv\")"
   ]
  },
  {
   "cell_type": "code",
   "execution_count": 2,
   "metadata": {},
   "outputs": [
    {
     "name": "stdout",
     "output_type": "stream",
     "text": [
      "19.790082304526756 average of total bill\n"
     ]
    }
   ],
   "source": [
    "import numpy as np \n",
    "\n",
    "import matplotlib.pyplot as plt\n",
    "%matplotlib inline\n",
    "\n",
    "df = pd.read_csv(\"/Users/kiyok/Documents/tips.csv\")\n",
    "\n",
    "#this is to print average of total bill amount.\n",
    "print((np.mean(df.iloc[:243,0])),'average of total bill') \n",
    "\n"
   ]
  },
  {
   "cell_type": "code",
   "execution_count": 3,
   "metadata": {},
   "outputs": [
    {
     "name": "stdout",
     "output_type": "stream",
     "text": [
      "2.998271604938272 average of tips\n"
     ]
    }
   ],
   "source": [
    "#this is to print average of tips \n",
    "print((np.mean(df.iloc[:243,1])),'average of tips') "
   ]
  },
  {
   "cell_type": "code",
   "execution_count": 4,
   "metadata": {},
   "outputs": [
    {
     "name": "stdout",
     "output_type": "stream",
     "text": [
      "2.57201646090535 average of size\n"
     ]
    }
   ],
   "source": [
    "#this is to print average of size of party \n",
    "print((np.mean(df.iloc[:243,6])),'average of size') "
   ]
  },
  {
   "cell_type": "code",
   "execution_count": 5,
   "metadata": {},
   "outputs": [
    {
     "name": "stdout",
     "output_type": "stream",
     "text": [
      "3.07 minimum of total bill\n",
      "50.81 maximum of total bill\n",
      "1.0 minimum of tips\n",
      "10.0 maximum of tips\n"
     ]
    }
   ],
   "source": [
    "# this is to print min and max of total bill and tips\n",
    "print(min(df.iloc[:243,0]),'minimum of total bill')\n",
    "print(max(df.iloc[:243,0]),'maximum of total bill')\n",
    "print(min(df.iloc[:243,1]),'minimum of tips')\n",
    "print(max(df.iloc[:243,1]),'maximum of tips')"
   ]
  },
  {
   "cell_type": "markdown",
   "metadata": {},
   "source": [
    " average of total bill = 19.79, min = 3.07, max = 50.81\n",
    " average of tips = 2.99, min = 1.0, max = 10\n",
    " average of size = 2.57\n",
    " "
   ]
  },
  {
   "cell_type": "code",
   "execution_count": 6,
   "metadata": {},
   "outputs": [
    {
     "name": "stdout",
     "output_type": "stream",
     "text": [
      "17.807540983606557 average of total bills of Thur\n",
      "17.785 average of total bills of Fri\n",
      "20.44313953488371 average of total bills of Sat\n",
      "21.468933333333332 average of total bills of Sun\n",
      "2.7868852459016393 average of tips of Thur\n",
      "2.8311111111111114 average of tips of Fri\n",
      "2.995930232558138 average of tips of Sat\n",
      "3.285066666666667 average of tips of Sun\n",
      "18.069302325581393 average of total bills of female\n",
      "20.810769230769246 average of total bills of male\n",
      "2.8546511627906974 average of tips of female\n",
      "3.098782051282052 average of tips of male\n",
      "17.625177664974622 average total bills of party size 1-3\n",
      "29.503777777777778 average of total bills of party size 4-6\n",
      "2.723502538071067 average of tips of party size 1-3\n",
      "4.257777777777777 average of tips of party size 4-6\n",
      "17.243432835820894 average of totall bills of lunch\n",
      "20.750457142857144 average of totall bills of dinner\n",
      "2.7359701492537316 average of tips of lunch\n",
      "3.103257142857143 average of tips of dinner\n"
     ]
    }
   ],
   "source": [
    "\n",
    "import pandas as pd\n",
    "import numpy as np \n",
    "\n",
    "df = pd.read_csv(\"/Users/kiyok/Desktop/tips-data-set/Thur.csv\") \n",
    "df1 = pd.read_csv(\"/Users/kiyok/Desktop/tips-data-set/Fri.csv\") \n",
    "df2 = pd.read_csv(\"/Users/kiyok/Desktop/tips-data-set/Sat.csv\")\n",
    "df3 = pd.read_csv(\"/Users/kiyok/Desktop/tips-data-set/Sun.csv\")\n",
    "dff = pd.read_csv(\"/Users/kiyok/Desktop/tips-data-set/female.csv\") \n",
    "dfm = pd.read_csv(\"/Users/kiyok/Desktop/tips-data-set/male.csv\")\n",
    "df13 = pd.read_csv(\"/Users/kiyok/Desktop/tips-data-set/1-3.csv\")\n",
    "df46 = pd.read_csv(\"/Users/kiyok/Desktop/tips-data-set/4-6.csv\")\n",
    "dfl = pd.read_csv(\"/Users/kiyok/Desktop/tips-data-set/lunch.csv\") \n",
    "dfd = pd.read_csv(\"/Users/kiyok/Desktop/tips-data-set/dinner.csv\")\n",
    "\n",
    "#this is to print average of totall bills on Thur, Fri, Sat and Sun \n",
    "print((np.mean(df.iloc[:,0])),'average of total bills of Thur') \n",
    "print((np.mean(df1.iloc[:,0])),'average of total bills of Fri') \n",
    "print((np.mean(df2.iloc[:,0])),'average of total bills of Sat') \n",
    "print((np.mean(df3.iloc[:,0])),'average of total bills of Sun') \n",
    "\n",
    "#this is to print average of tips on Thur, Fri, Sat and Sun  \n",
    "print((np.mean(df.iloc[:,1])),'average of tips of Thur') \n",
    "print((np.mean(df1.iloc[:,1])),'average of tips of Fri') \n",
    "print((np.mean(df2.iloc[:,1])),'average of tips of Sat') \n",
    "print((np.mean(df3.iloc[:,1])),'average of tips of Sun') \n",
    "\n",
    "#this is to print average of totall bills of female\n",
    "print((np.mean(dff.iloc[:,0])),'average of total bills of female')\n",
    "\n",
    "#this is to print average of totall bills of male \n",
    "print((np.mean(dfm.iloc[:,0])),'average of total bills of male')\n",
    "\n",
    "#this is to print average of tips of female\n",
    "print((np.mean(dff.iloc[:,1])),'average of tips of female')\n",
    "\n",
    "#this is to print average of tips of male\n",
    "print((np.mean(dfm.iloc[:,1])),'average of tips of male')\n",
    "\n",
    "#this is to print average of totall bills of party size 1-3\n",
    "print((np.mean(df13.iloc[:,0])),'average total bills of party size 1-3')\n",
    "#this is to print average of totall bills of party size 4-6\n",
    "print((np.mean(df46.iloc[:,0])),'average of total bills of party size 4-6')\n",
    "\n",
    "#this is to print average of tips of party size 1-3\n",
    "print((np.mean(df13.iloc[:,1])),'average of tips of party size 1-3')\n",
    "#this is to print average of tips of party size 4-6\n",
    "print((np.mean(df46.iloc[:,1])),'average of tips of party size 4-6')\n",
    "\n",
    "#this is to print average of total bills of lunch\n",
    "print((np.mean(dfl.iloc[:,0])),'average of totall bills of lunch')\n",
    "#this is to print average of total bills of dinner\n",
    "print((np.mean(dfd.iloc[:,0])),'average of totall bills of dinner')\n",
    "\n",
    "#this is to print average of tips of lunch\n",
    "print((np.mean(dfl.iloc[:,1])),'average of tips of lunch')\n",
    "#this is to print average of tips of dinner\n",
    "print((np.mean(dfd.iloc[:,1])),'average of tips of dinner')"
   ]
  },
  {
   "cell_type": "code",
   "execution_count": 7,
   "metadata": {},
   "outputs": [
    {
     "data": {
      "image/png": "[encoded data removed]",
      "text/plain": [
       "<Figure size 432x288 with 1 Axes>"
      ]
     },
     "metadata": {
      "needs_background": "light"
     },
     "output_type": "display_data"
    }
   ],
   "source": [
    "# Specify total bills and tips \n",
    "X = df.iloc[:,[0,1]].values\n",
    "\n",
    "# To make the scatter charts, nominate colors to each type of iris in 2 attributes.\n",
    "# adapted from https://ameblo.jp/cognitive-solution/entry-12265630846.html \n",
    "plt.scatter(X[:243,0],X[:243,1],color='blue',marker='o')\n",
    "plt.xlabel('total bills')\n",
    "plt.ylabel('tips')\n",
    "plt.show()"
   ]
  },
  {
   "cell_type": "code",
   "execution_count": 8,
   "metadata": {},
   "outputs": [
    {
     "data": {
      "text/plain": [
       "(array([ 9., 17., 11., 11.,  4.,  3.,  1.,  3.,  0.,  2.]),\n",
       " array([ 7.51, 11.07, 14.63, 18.19, 21.75, 25.31, 28.87, 32.43, 35.99,\n",
       "        39.55, 43.11]),\n",
       " <a list of 10 Patch objects>)"
      ]
     },
     "execution_count": 8,
     "metadata": {},
     "output_type": "execute_result"
    },
    {
     "data": {
      "image/png": "[encoded data removed]",
      "text/plain": [
       "<Figure size 432x288 with 1 Axes>"
      ]
     },
     "metadata": {
      "needs_background": "light"
     },
     "output_type": "display_data"
    }
   ],
   "source": [
    "#this is to print the total bills \n",
    "x =  df.iloc[:,[0]].values\n",
    "plt.xlabel('total bill') \n",
    "plt.ylabel('number of people')\n",
    "plt.hist(x)"
   ]
  },
  {
   "cell_type": "code",
   "execution_count": 9,
   "metadata": {
    "scrolled": true
   },
   "outputs": [
    {
     "data": {
      "text/plain": [
       "(array([11., 20.,  7.,  8.,  1.,  7.,  4.,  1.,  1.,  1.]),\n",
       " array([1.25 , 1.795, 2.34 , 2.885, 3.43 , 3.975, 4.52 , 5.065, 5.61 ,\n",
       "        6.155, 6.7  ]),\n",
       " <a list of 10 Patch objects>)"
      ]
     },
     "execution_count": 9,
     "metadata": {},
     "output_type": "execute_result"
    },
    {
     "data": {
      "image/png": "[encoded data removed]",
      "text/plain": [
       "<Figure size 432x288 with 1 Axes>"
      ]
     },
     "metadata": {
      "needs_background": "light"
     },
     "output_type": "display_data"
    }
   ],
   "source": [
    "#this is to print tips \n",
    "x =  df.iloc[:,[1]].values\n",
    "plt.xlabel('tips') \n",
    "plt.ylabel('number of people')\n",
    "plt.hist(x)"
   ]
  },
  {
   "cell_type": "markdown",
   "metadata": {},
   "source": [
    "## Regression \n",
    "\n",
    "These are the foundings :\n",
    "\n",
    "1.majority of parties spent less than 20USD and tipped less than 4USD\n",
    "\n",
    "2.the highest total bill was 50.81USD and the highest tip was 10USD\n",
    "\n",
    "3.minimum tip was 1USD, this means every one who had something to eat at the restaurant paid tips\n",
    "\n",
    "4.number of female was 87 and male was 157\n",
    "\n",
    "5.151 were non smokers, 93 were smokers \n",
    "\n",
    "6.176 parties had dinner and 68 had lunch\n",
    "\n",
    "7.this tips samples were taken from Thursday to Sunday with lunch or dinner time\n",
    "\n"
   ]
  },
  {
   "cell_type": "markdown",
   "metadata": {},
   "source": []
  },
  {
   "cell_type": "code",
   "execution_count": 10,
   "metadata": {},
   "outputs": [
    {
     "data": {
      "image/png": "[encoded data removed]",
      "text/plain": [
       "<Figure size 432x288 with 1 Axes>"
      ]
     },
     "metadata": {
      "needs_background": "light"
     },
     "output_type": "display_data"
    }
   ],
   "source": [
    "df = pd.read_csv(\"/Users/kiyok/Desktop/tips-data-set/male.csv\") \n",
    "X = df.iloc[:,[0,1]].values\n",
    "plt.scatter(X[:,0],X[:,1],color='blue',marker='o')\n",
    "plt.xlabel('total bills') \n",
    "plt.ylabel('tips') \n",
    "plt.show() "
   ]
  },
  {
   "cell_type": "code",
   "execution_count": 11,
   "metadata": {},
   "outputs": [
    {
     "data": {
      "image/png": "[encoded data removed]",
      "text/plain": [
       "<Figure size 432x288 with 1 Axes>"
      ]
     },
     "metadata": {
      "needs_background": "light"
     },
     "output_type": "display_data"
    }
   ],
   "source": [
    "df = pd.read_csv(\"/Users/kiyok/Desktop/tips-data-set/female.csv\") \n",
    "X = df.iloc[:,[0,1]].values\n",
    "plt.scatter(X[:,0],X[:,1],color='red',marker='o')\n",
    "plt.xlabel('total bills') \n",
    "plt.ylabel('tips') \n",
    "plt.show() "
   ]
  },
  {
   "cell_type": "code",
   "execution_count": 12,
   "metadata": {},
   "outputs": [
    {
     "data": {
      "image/png": "[encoded data removed]",
      "text/plain": [
       "<Figure size 432x288 with 1 Axes>"
      ]
     },
     "metadata": {
      "needs_background": "light"
     },
     "output_type": "display_data"
    }
   ],
   "source": [
    "# This is to visualise Total amount and tips based on the sex\n",
    "# In order to create 2D chart, I chose female and male\n",
    "import pandas as pd\n",
    "import matplotlib.pyplot as plt\n",
    "\n",
    "df = pd.read_csv(\"/Users/kiyok/Desktop/tips-data-set/female-male.csv\") \n",
    "\n",
    "# Specify Total bills and tips values \n",
    "X = df.iloc[:,[0,1]].values\n",
    "\n",
    "plt.scatter(X[:87,0],X[:87,1],color='red',marker='o',label='female')\n",
    "plt.scatter(X[87:245,0],X[87:245,1],color='blue',marker='o',label='male')\n",
    "plt.xlabel('Total bills')\n",
    "plt.ylabel('Tips')\n",
    "plt.legend(loc='upper left')\n",
    "plt.show()"
   ]
  },
  {
   "cell_type": "code",
   "execution_count": 13,
   "metadata": {},
   "outputs": [
    {
     "data": {
      "image/png": "[encoded data removed]",
      "text/plain": [
       "<Figure size 432x288 with 1 Axes>"
      ]
     },
     "metadata": {
      "needs_background": "light"
     },
     "output_type": "display_data"
    }
   ],
   "source": [
    "df = pd.read_csv(\"/Users/kiyok/Desktop/tips-data-set/female-male.csv\") \n",
    "\n",
    "# Specify Total bills and tips values based on days (Thur,Fri,Sat and Sun)\n",
    "X = df.iloc[:,[0,1]].values\n",
    "\n",
    "plt.scatter(X[:19,0],X[:19,1],color='purple',marker='o',label='Fri')\n",
    "plt.scatter(X[20:106,0],X[20:106,1],color='green',marker='x',label='Sat')\n",
    "plt.scatter(X[107:182,0],X[107:182,1],color='black',marker='^',label='Sun')\n",
    "plt.scatter(X[183:244,0],X[183:244,1],color='yellow',marker='d',label='Thur')\n",
    "\n",
    "plt.xlabel('Total bills')\n",
    "plt.ylabel('Tips')\n",
    "plt.legend(loc='upper left')\n",
    "plt.show()\n"
   ]
  },
  {
   "cell_type": "markdown",
   "metadata": {},
   "source": [
    "Collected 68 samples of lunches and saved as csv file and extract some interesting attributes from these samples \n",
    "Collected 176 samples of dinner and saved as csv file and extract some interesting attributes from these samples\n"
   ]
  },
  {
   "cell_type": "code",
   "execution_count": 14,
   "metadata": {
    "scrolled": true
   },
   "outputs": [
    {
     "data": {
      "image/png": "[encoded data removed]",
      "text/plain": [
       "<Figure size 432x288 with 1 Axes>"
      ]
     },
     "metadata": {
      "needs_background": "light"
     },
     "output_type": "display_data"
    }
   ],
   "source": [
    "df = pd.read_csv(\"/Users/kiyok/Desktop/tips-data-set/lunch-dinner.csv\") \n",
    "\n",
    "# Specify Total bills and tips values on Lunch and Dinner\n",
    "X = df.iloc[:,[0,1]].values\n",
    "plt.scatter(X[:176,0],X[:176,1],color='red',marker='s',label='Dinner')\n",
    "plt.scatter(X[177:244,0],X[177:244,1],color='black',marker='s',label='Lunch')\n",
    "plt.xlabel('Total bills')\n",
    "plt.ylabel('Tips')\n",
    "plt.legend(loc='upper left')\n",
    "plt.show()"
   ]
  },
  {
   "cell_type": "code",
   "execution_count": 15,
   "metadata": {},
   "outputs": [
    {
     "data": {
      "text/plain": [
       "<matplotlib.legend.Legend at 0x2a6b84cd748>"
      ]
     },
     "execution_count": 15,
     "metadata": {},
     "output_type": "execute_result"
    },
    {
     "data": {
      "image/png": "[encoded data removed]",
      "text/plain": [
       "<Figure size 432x288 with 2 Axes>"
      ]
     },
     "metadata": {
      "needs_background": "light"
     },
     "output_type": "display_data"
    }
   ],
   "source": [
    "import pandas as pd\n",
    "import matplotlib.pyplot as plt\n",
    "\n",
    "df = pd.read_csv(\"/Users/kiyok/Desktop/tips-data-set/female.csv\") \n",
    "df1 = pd.read_csv(\"/Users/kiyok/Desktop/tips-data-set/male.csv\") \n",
    "\n",
    "X = df.iloc[:,0].values\n",
    "Y = df.iloc[:,1].values\n",
    "\n",
    "X1 = df1.iloc[:,0].values\n",
    "Y1 = df1.iloc[:,1].values\n",
    "\n",
    "#１つ目のプロット\n",
    "plt.subplot(2,1,1)\n",
    "plt.scatter(X,Y,color='red',marker='o',label='female')\n",
    "plt.legend()\n",
    "     \n",
    "\n",
    "# 2つ目のプロット\n",
    "plt.subplot(2,1,2)\n",
    "plt.scatter(X1,Y1,color='blue',marker='o',label='male')\n",
    "plt.legend()\n",
    "\n"
   ]
  },
  {
   "cell_type": "code",
   "execution_count": 16,
   "metadata": {},
   "outputs": [
    {
     "data": {
      "text/plain": [
       "<matplotlib.legend.Legend at 0x2a6b9558d08>"
      ]
     },
     "execution_count": 16,
     "metadata": {},
     "output_type": "execute_result"
    },
    {
     "data": {
      "image/png": "[encoded data removed]",
      "text/plain": [
       "<Figure size 432x288 with 2 Axes>"
      ]
     },
     "metadata": {
      "needs_background": "light"
     },
     "output_type": "display_data"
    }
   ],
   "source": [
    "import pandas as pd\n",
    "import matplotlib.pyplot as plt\n",
    "\n",
    "df = pd.read_csv(\"/Users/kiyok/Desktop/tips-data-set/lunch.csv\") \n",
    "df1 = pd.read_csv(\"/Users/kiyok/Desktop/tips-data-set/dinner.csv\") \n",
    "\n",
    "X = df.iloc[:,0].values\n",
    "Y = df.iloc[:,1].values\n",
    "\n",
    "X1 = df1.iloc[:,0].values\n",
    "Y1 = df1.iloc[:,1].values\n",
    "\n",
    "#１つ目のプロット\n",
    "plt.subplot(2,1,1)\n",
    "plt.scatter(X,Y,color='black',marker='s',label='lunch')\n",
    "plt.legend()\n",
    "     \n",
    "\n",
    "# 2つ目のプロット\n",
    "plt.subplot(2,1,2)\n",
    "plt.scatter(X1,Y1,color='red',marker='s',label='dinner')\n",
    "plt.legend()\n",
    "\n"
   ]
  },
  {
   "cell_type": "code",
   "execution_count": 17,
   "metadata": {},
   "outputs": [
    {
     "data": {
      "text/plain": [
       "<matplotlib.legend.Legend at 0x2a6b96a5908>"
      ]
     },
     "execution_count": 17,
     "metadata": {},
     "output_type": "execute_result"
    },
    {
     "data": {
      "image/png": "[encoded data removed]",
      "text/plain": [
       "<Figure size 432x288 with 4 Axes>"
      ]
     },
     "metadata": {
      "needs_background": "light"
     },
     "output_type": "display_data"
    }
   ],
   "source": [
    "import pandas as pd\n",
    "import matplotlib.pyplot as plt\n",
    "\n",
    "df = pd.read_csv(\"/Users/kiyok/Desktop/tips-data-set/Thur.csv\") \n",
    "df1 = pd.read_csv(\"/Users/kiyok/Desktop/tips-data-set/Fri.csv\") \n",
    "df2 = pd.read_csv(\"/Users/kiyok/Desktop/tips-data-set/Sat.csv\")\n",
    "df3 = pd.read_csv(\"/Users/kiyok/Desktop/tips-data-set/Sun.csv\")\n",
    "\n",
    "X = df.iloc[:,0].values\n",
    "Y = df.iloc[:,1].values\n",
    "\n",
    "X1 = df1.iloc[:,0].values\n",
    "Y1 = df1.iloc[:,1].values\n",
    "\n",
    "X2 = df2.iloc[:,0].values\n",
    "Y2 = df2.iloc[:,1].values\n",
    "\n",
    "X3 = df3.iloc[:,0].values\n",
    "Y3 = df3.iloc[:,1].values\n",
    "\n",
    "\n",
    "#1st plot\n",
    "plt.subplot(2,2,1)\n",
    "plt.scatter(X,Y,color='yellow',marker='d',label='Thur')\n",
    "plt.legend()\n",
    "     \n",
    "\n",
    "# 2nd plot\n",
    "plt.subplot(2,2,2)\n",
    "plt.scatter(X1,Y1,color='purple',marker='o',label='Fri')\n",
    "plt.legend()\n",
    "\n",
    "# 3rd plot\n",
    "plt.subplot(2,2,3)\n",
    "plt.scatter(X2,Y2,color='green',marker='x',label='Sat')\n",
    "plt.legend()\n",
    "     \n",
    "\n",
    "# 4th plot\n",
    "plt.subplot(2,2,4)\n",
    "plt.scatter(X3,Y3,color='black',marker='^',label='Sun')\n",
    "plt.legend()"
   ]
  },
  {
   "cell_type": "markdown",
   "metadata": {},
   "source": [
    "## Analysis of data sets\n",
    "\n",
    "This restaurant customers tend to spend more towards weekend. Sunday is the best day for the resutaurant to receive the larger amount of bills and tips. Also, dinner time would be better than lunch time for this restaurant. I would suggest to add more staff on weekends dinner time. \n",
    "Average totall bills and tips on different aspects in excel screenshot backed up this recommendation. \n"
   ]
  },
  {
   "cell_type": "code",
   "execution_count": null,
   "metadata": {},
   "outputs": [],
   "source": []
  }
 ],
 "metadata": {
  "kernelspec": {
   "display_name": "Python 3",
   "language": "python",
   "name": "python3"
  },
  "language_info": {
   "codemirror_mode": {
    "name": "ipython",
    "version": 3
   },
   "file_extension": ".py",
   "mimetype": "text/x-python",
   "name": "python",
   "nbconvert_exporter": "python",
   "pygments_lexer": "ipython3",
   "version": "3.7.4"
  }
 },
 "nbformat": 4,
 "nbformat_minor": 2
}
